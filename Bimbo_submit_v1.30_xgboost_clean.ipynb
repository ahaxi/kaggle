{
 "cells": [
  {
   "cell_type": "code",
   "execution_count": 2,
   "metadata": {
    "collapsed": false
   },
   "outputs": [],
   "source": [
    "import xgboost"
   ]
  },
  {
   "cell_type": "code",
   "execution_count": 3,
   "metadata": {
    "collapsed": true
   },
   "outputs": [],
   "source": [
    "import os"
   ]
  },
  {
   "cell_type": "code",
   "execution_count": 4,
   "metadata": {
    "collapsed": false
   },
   "outputs": [],
   "source": [
    "import pandas as pd"
   ]
  },
  {
   "cell_type": "code",
   "execution_count": 5,
   "metadata": {
    "collapsed": false
   },
   "outputs": [],
   "source": [
    "import numpy as np"
   ]
  },
  {
   "cell_type": "code",
   "execution_count": 6,
   "metadata": {
    "collapsed": false
   },
   "outputs": [],
   "source": [
    "import numpy"
   ]
  },
  {
   "cell_type": "code",
   "execution_count": 7,
   "metadata": {
    "collapsed": true
   },
   "outputs": [],
   "source": [
    "import pandas"
   ]
  },
  {
   "cell_type": "code",
   "execution_count": 8,
   "metadata": {
    "collapsed": true
   },
   "outputs": [],
   "source": [
    "import datetime"
   ]
  },
  {
   "cell_type": "code",
   "execution_count": 9,
   "metadata": {
    "collapsed": true
   },
   "outputs": [],
   "source": [
    "import cPickle as pickle"
   ]
  },
  {
   "cell_type": "code",
   "execution_count": 10,
   "metadata": {
    "collapsed": true
   },
   "outputs": [],
   "source": [
    "import cPickle"
   ]
  },
  {
   "cell_type": "code",
   "execution_count": 11,
   "metadata": {
    "collapsed": true
   },
   "outputs": [],
   "source": [
    "import itertools"
   ]
  },
  {
   "cell_type": "code",
   "execution_count": 12,
   "metadata": {
    "collapsed": false
   },
   "outputs": [],
   "source": [
    "import matplotlib.pyplot as plt"
   ]
  },
  {
   "cell_type": "markdown",
   "metadata": {
    "collapsed": false
   },
   "source": [
    "import memory_profiler\n",
    "import line_profiler\n",
    "%load_ext memory_profiler"
   ]
  },
  {
   "cell_type": "code",
   "execution_count": 13,
   "metadata": {
    "collapsed": true
   },
   "outputs": [],
   "source": [
    "method = 'logistic regression'\n",
    "#method = 'random forest'"
   ]
  },
  {
   "cell_type": "code",
   "execution_count": 14,
   "metadata": {
    "collapsed": true
   },
   "outputs": [],
   "source": [
    "logic_C = 1e5"
   ]
  },
  {
   "cell_type": "code",
   "execution_count": 15,
   "metadata": {
    "collapsed": true
   },
   "outputs": [],
   "source": [
    "rf_n_estimators = 10\n",
    "rf_max_depth = 3"
   ]
  },
  {
   "cell_type": "code",
   "execution_count": 16,
   "metadata": {
    "collapsed": true
   },
   "outputs": [],
   "source": [
    "random_seed = 0;"
   ]
  },
  {
   "cell_type": "code",
   "execution_count": 17,
   "metadata": {
    "collapsed": true
   },
   "outputs": [],
   "source": [
    "n_uesr_clusters = 1"
   ]
  },
  {
   "cell_type": "code",
   "execution_count": 18,
   "metadata": {
    "collapsed": true
   },
   "outputs": [],
   "source": [
    "bMonitorAllTrees = False\n",
    "bTreeDump = True"
   ]
  },
  {
   "cell_type": "code",
   "execution_count": 19,
   "metadata": {
    "collapsed": true
   },
   "outputs": [],
   "source": [
    "bFullData = True\n",
    "bCV = False\n",
    "bLeaveOneOut = True\n",
    "bTwoModel = False\n",
    "bOnlyTwoWeekTrain = False"
   ]
  },
  {
   "cell_type": "code",
   "execution_count": null,
   "metadata": {
    "collapsed": true
   },
   "outputs": [],
   "source": []
  },
  {
   "cell_type": "code",
   "execution_count": 20,
   "metadata": {
    "collapsed": true
   },
   "outputs": [],
   "source": [
    "bParallel = False;\n",
    "if bParallel:\n",
    "    core_num = 4;\n",
    "else:\n",
    "    core_num = 1"
   ]
  },
  {
   "cell_type": "code",
   "execution_count": 21,
   "metadata": {
    "collapsed": false
   },
   "outputs": [],
   "source": [
    "os.chdir('C:\\Bimbo')"
   ]
  },
  {
   "cell_type": "code",
   "execution_count": 22,
   "metadata": {
    "collapsed": true
   },
   "outputs": [],
   "source": [
    "pd.set_option('display.max_columns',None);"
   ]
  },
  {
   "cell_type": "code",
   "execution_count": 23,
   "metadata": {
    "collapsed": false
   },
   "outputs": [],
   "source": [
    "\n",
    "test = pd.read_csv(\"test.csv\", dtype = {\n",
    "        'id':np.int32,\n",
    "        'Semana':np.int8,\n",
    "        'Agencia_ID':np.int16,\n",
    "        'Canal_ID':np.int8, \n",
    "        'Ruta_SAK':np.int16,\n",
    "        'Cliente_ID':np.int32,\n",
    "        'Producto_ID':np.int32,\n",
    "    })"
   ]
  },
  {
   "cell_type": "code",
   "execution_count": 24,
   "metadata": {
    "collapsed": false
   },
   "outputs": [],
   "source": [
    "\n",
    "train = pd.read_csv(\n",
    "    \"train.csv\", \n",
    "    usecols = ['Semana', 'Agencia_ID', 'Canal_ID', 'Ruta_SAK', 'Cliente_ID', 'Producto_ID', 'Demanda_uni_equil','Venta_uni_hoy','Venta_hoy'],\n",
    "    dtype = {\n",
    "        'Semana':np.int8,\n",
    "        'Agencia_ID':np.int16,\n",
    "        'Canal_ID':np.int8, \n",
    "        'Ruta_SAK':np.int16,\n",
    "        'Cliente_ID':np.int32,\n",
    "        'Producto_ID':np.int32,\n",
    "        'Venta_uni_hoy':np.int32,\n",
    "        'Venta_hoy':np.float32,\n",
    "        #'Dev_uni_proxima':np.int32,\n",
    "        #'Dev_proxima':np.float32,\n",
    "        'Demanda_uni_equil':np.float32\n",
    "    })"
   ]
  },
  {
   "cell_type": "code",
   "execution_count": 25,
   "metadata": {
    "collapsed": false
   },
   "outputs": [
    {
     "data": {
      "text/plain": [
       "(74180464, 9)"
      ]
     },
     "execution_count": 25,
     "metadata": {},
     "output_type": "execute_result"
    }
   ],
   "source": [
    "train.shape"
   ]
  },
  {
   "cell_type": "code",
   "execution_count": 26,
   "metadata": {
    "collapsed": false
   },
   "outputs": [
    {
     "data": {
      "text/plain": [
       "(6999251, 7)"
      ]
     },
     "execution_count": 26,
     "metadata": {},
     "output_type": "execute_result"
    }
   ],
   "source": [
    "test.shape"
   ]
  },
  {
   "cell_type": "code",
   "execution_count": 27,
   "metadata": {
    "collapsed": false
   },
   "outputs": [
    {
     "data": {
      "text/plain": [
       "Index([u'Semana', u'Agencia_ID', u'Canal_ID', u'Ruta_SAK', u'Cliente_ID',\n",
       "       u'Producto_ID', u'Venta_uni_hoy', u'Venta_hoy', u'Demanda_uni_equil'],\n",
       "      dtype='object')"
      ]
     },
     "execution_count": 27,
     "metadata": {},
     "output_type": "execute_result"
    }
   ],
   "source": [
    "train.columns"
   ]
  },
  {
   "cell_type": "code",
   "execution_count": 28,
   "metadata": {
    "collapsed": false
   },
   "outputs": [
    {
     "data": {
      "text/plain": [
       "Index([u'id', u'Semana', u'Agencia_ID', u'Canal_ID', u'Ruta_SAK',\n",
       "       u'Cliente_ID', u'Producto_ID'],\n",
       "      dtype='object')"
      ]
     },
     "execution_count": 28,
     "metadata": {},
     "output_type": "execute_result"
    }
   ],
   "source": [
    "test.columns"
   ]
  },
  {
   "cell_type": "code",
   "execution_count": 29,
   "metadata": {
    "collapsed": false
   },
   "outputs": [
    {
     "data": {
      "text/plain": [
       "Semana                  int8\n",
       "Agencia_ID             int16\n",
       "Canal_ID                int8\n",
       "Ruta_SAK               int16\n",
       "Cliente_ID             int32\n",
       "Producto_ID            int32\n",
       "Venta_uni_hoy          int32\n",
       "Venta_hoy            float32\n",
       "Demanda_uni_equil    float32\n",
       "dtype: object"
      ]
     },
     "execution_count": 29,
     "metadata": {},
     "output_type": "execute_result"
    }
   ],
   "source": [
    "train.dtypes"
   ]
  },
  {
   "cell_type": "code",
   "execution_count": 30,
   "metadata": {
    "collapsed": true
   },
   "outputs": [],
   "source": [
    "train['log_demand']=np.log1p(train['Demanda_uni_equil'])"
   ]
  },
  {
   "cell_type": "code",
   "execution_count": 31,
   "metadata": {
    "collapsed": false
   },
   "outputs": [
    {
     "data": {
      "text/plain": [
       "2225413992L"
      ]
     },
     "execution_count": 31,
     "metadata": {},
     "output_type": "execute_result"
    }
   ],
   "source": [
    "train.memory_usage().sum()"
   ]
  },
  {
   "cell_type": "code",
   "execution_count": 32,
   "metadata": {
    "collapsed": false
   },
   "outputs": [
    {
     "data": {
      "text/plain": [
       "125986590L"
      ]
     },
     "execution_count": 32,
     "metadata": {},
     "output_type": "execute_result"
    }
   ],
   "source": [
    "test.memory_usage().sum()"
   ]
  },
  {
   "cell_type": "code",
   "execution_count": 33,
   "metadata": {
    "collapsed": false
   },
   "outputs": [],
   "source": [
    "if bFullData:\n",
    "    t1 = train\n",
    "    t2 = test\n",
    "else:\n",
    "    if bCV:\n",
    "        t1 = train.loc[train['Semana'] <= 5,:].copy()\n",
    "        t2 = train.loc[(train['Semana'] ==6) | (train['Semana'] ==7),:].copy()\n",
    "        t3 = train.loc[(train['Semana'] ==8) | (train['Semana'] ==9),:].copy()\n",
    "    else:\n",
    "        t1 = train.loc[train['Semana'] <= 7,:].copy()\n",
    "        #t1 = train.loc[(train['Semana'] == 6) | (train['Semana'] == 7),:].copy()\n",
    "        t2 = train.loc[(train['Semana'] == 8) | (train['Semana'] == 9),:].copy()\n",
    "    del test\n",
    "    del train"
   ]
  },
  {
   "cell_type": "code",
   "execution_count": 34,
   "metadata": {
    "collapsed": false
   },
   "outputs": [],
   "source": [
    "#t1.drop(t1.index[t1['Demanda_uni_equil']==0.0], inplace =True)"
   ]
  },
  {
   "cell_type": "code",
   "execution_count": 35,
   "metadata": {
    "collapsed": true
   },
   "outputs": [],
   "source": [
    "\n",
    "mean_total = np.mean(t1['log_demand'])"
   ]
  },
  {
   "cell_type": "code",
   "execution_count": 36,
   "metadata": {
    "collapsed": true
   },
   "outputs": [],
   "source": [
    "short_hand_dict = {'A':'Agencia_ID','Ca':'Canal_ID','R':'Ruta_SAK','C':'Cliente_ID','P':'Producto_ID'}"
   ]
  },
  {
   "cell_type": "code",
   "execution_count": 37,
   "metadata": {
    "collapsed": true
   },
   "outputs": [],
   "source": [
    "all_terms = [['P','C','A','Ca','R'],\n",
    "             ['A','Ca','R','C'],\n",
    "             ['A','Ca','R','P'],\n",
    "             ['A','Ca','P'],\n",
    "             #['Ca','R','P'],\n",
    "             ['A','R','P'],\n",
    "             #['Ca','R','C'],\n",
    "             ['A','R','C'],\n",
    "             #['A','Ca','C'],\n",
    "             ['A','Ca','R'],\n",
    "             ['C','P'],\n",
    "             ['C'],\n",
    "             ['P'],\n",
    "             ['A'],\n",
    "             ['R'],\n",
    "             ['Ca'],\n",
    "             ['P','R'],\n",
    "             ['P','C','A']]"
   ]
  },
  {
   "cell_type": "code",
   "execution_count": 38,
   "metadata": {
    "collapsed": true
   },
   "outputs": [],
   "source": [
    "all_terms_joined = map(str.join,itertools.repeat('',len(all_terms)),all_terms)"
   ]
  },
  {
   "cell_type": "code",
   "execution_count": 39,
   "metadata": {
    "collapsed": true
   },
   "outputs": [],
   "source": [
    "match_cols_dict = {all_terms_joined[i]:[short_hand_dict[key] for key in all_terms[i]] \n",
    "                  for i in xrange(len(all_terms))}"
   ]
  },
  {
   "cell_type": "code",
   "execution_count": 40,
   "metadata": {
    "collapsed": true
   },
   "outputs": [],
   "source": [
    "import gc"
   ]
  },
  {
   "cell_type": "code",
   "execution_count": 41,
   "metadata": {
    "collapsed": false
   },
   "outputs": [],
   "source": [
    "if bFullData:\n",
    "    t2['log_demand'] = [0 for i in xrange(len(t2))]"
   ]
  },
  {
   "cell_type": "code",
   "execution_count": 42,
   "metadata": {
    "collapsed": false
   },
   "outputs": [
    {
     "name": "stdout",
     "output_type": "stream",
     "text": [
      "ARP\n",
      "A\n",
      "C\n",
      "PCA\n",
      "ACaRP\n",
      "Ca\n",
      "PR\n",
      "P\n",
      "ARC\n",
      "PCACaR\n",
      "ACaRC\n",
      "ACaP\n",
      "R\n",
      "CP\n",
      "ACaR\n",
      "Wall time: 30min 2s\n"
     ]
    }
   ],
   "source": [
    "%%time\n",
    "for key in match_cols_dict:\n",
    "    print key\n",
    "    mean_groupby = t1[match_cols_dict[key] +['log_demand']].groupby(match_cols_dict[key]).mean()\n",
    "    if bLeaveOneOut:\n",
    "        sum_groupby = t1[match_cols_dict[key] +['log_demand']].groupby(match_cols_dict[key]).sum()\n",
    "        sum_groupby.columns = ['temp_sum']\n",
    "        size_groupby = t1[match_cols_dict[key] +['log_demand']].groupby(match_cols_dict[key]).size()\n",
    "        size_groupby.name = 'temp_size'\n",
    "        t1 = t1.merge(sum_groupby.join(size_groupby), how='left', left_on = match_cols_dict[key], \n",
    "                 right_index=True, suffixes=('','_' + key))\n",
    "        t1['log_demand_' + key] = (t1['temp_sum'] - t1['log_demand']) / (t1['temp_size'] - 1)\n",
    "\n",
    "        t1.drop(['temp_sum','temp_size'],axis = 1, inplace = True)\n",
    "    else:\n",
    "        t1 = t1.merge(mean_groupby, how='left', left_on = match_cols_dict[key], \n",
    "                 right_index=True, suffixes=('','_' + key))    \n",
    "    t2 = t2.merge(mean_groupby, how='left', left_on = match_cols_dict[key], \n",
    "             right_index=True, suffixes=('','_' + key))\n",
    "    if bCV:\n",
    "        t3 = t3.merge(mean_groupby, how='left', left_on = match_cols_dict[key], \n",
    "                 right_index=True, suffixes=('','_' + key))\n",
    "    if bLeaveOneOut:\n",
    "        del sum_groupby\n",
    "        del size_groupby\n",
    "    del mean_groupby\n",
    "\n",
    "    gc.collect()\n"
   ]
  },
  {
   "cell_type": "code",
   "execution_count": 43,
   "metadata": {
    "collapsed": false
   },
   "outputs": [
    {
     "data": {
      "text/plain": [
       "Index([u'Semana', u'Agencia_ID', u'Canal_ID', u'Ruta_SAK', u'Cliente_ID',\n",
       "       u'Producto_ID', u'Venta_uni_hoy', u'Venta_hoy', u'Demanda_uni_equil',\n",
       "       u'log_demand', u'log_demand_ARP', u'log_demand_A', u'log_demand_C',\n",
       "       u'log_demand_PCA', u'log_demand_ACaRP', u'log_demand_Ca',\n",
       "       u'log_demand_PR', u'log_demand_P', u'log_demand_ARC',\n",
       "       u'log_demand_PCACaR', u'log_demand_ACaRC', u'log_demand_ACaP',\n",
       "       u'log_demand_R', u'log_demand_CP', u'log_demand_ACaR'],\n",
       "      dtype='object')"
      ]
     },
     "execution_count": 43,
     "metadata": {},
     "output_type": "execute_result"
    }
   ],
   "source": [
    "t1.columns"
   ]
  },
  {
   "cell_type": "code",
   "execution_count": 44,
   "metadata": {
    "collapsed": true
   },
   "outputs": [],
   "source": [
    "t1_merge = t1\n",
    "t2_merge = t2\n",
    "if bCV:\n",
    "    t3_merge = t3\n",
    "    del t3\n",
    "del t1\n",
    "del t2"
   ]
  },
  {
   "cell_type": "code",
   "execution_count": 45,
   "metadata": {
    "collapsed": true
   },
   "outputs": [],
   "source": [
    "store_size = t1_merge[['Cliente_ID','Venta_hoy']].groupby(['Cliente_ID']).sum()\n",
    "store_size.columns = ['store_size']"
   ]
  },
  {
   "cell_type": "code",
   "execution_count": 46,
   "metadata": {
    "collapsed": true
   },
   "outputs": [],
   "source": [
    "t1_merge = t1_merge.merge(store_size, how='left', left_on = 'Cliente_ID', \n",
    "             right_index=True)\n",
    "t2_merge = t2_merge.merge(store_size, how='left', left_on = 'Cliente_ID', \n",
    "             right_index=True)\n",
    "if bCV:\n",
    "    t3_merge = t3_merge.merge(store_size, how='left', left_on = 'Cliente_ID', \n",
    "             right_index=True)"
   ]
  },
  {
   "cell_type": "code",
   "execution_count": 47,
   "metadata": {
    "collapsed": true
   },
   "outputs": [],
   "source": [
    "t1_merge['log_demand_CP_from_store_size'] = np.log1p(np.expm1(t1_merge['log_demand_P']) * t1_merge['store_size'])"
   ]
  },
  {
   "cell_type": "code",
   "execution_count": 48,
   "metadata": {
    "collapsed": true
   },
   "outputs": [],
   "source": [
    "t2_merge['log_demand_CP_from_store_size'] = np.log1p(np.expm1(t2_merge['log_demand_P']) * t2_merge['store_size'])"
   ]
  },
  {
   "cell_type": "markdown",
   "metadata": {},
   "source": [
    "t1['price'] = t1['Venta_hoy'] / t1['Venta_uni_hoy']"
   ]
  },
  {
   "cell_type": "markdown",
   "metadata": {},
   "source": [
    "price_CP = t1[['Cliente_ID','Producto_ID','price']].groupby(['Producto_ID','Cliente_ID'],as_index = False).mean()"
   ]
  },
  {
   "cell_type": "markdown",
   "metadata": {},
   "source": [
    "mean_price = t1[['Producto_ID','price']].groupby(['Producto_ID']).mean()"
   ]
  },
  {
   "cell_type": "markdown",
   "metadata": {},
   "source": [
    "mean_price.columns = ['mean_price']"
   ]
  },
  {
   "cell_type": "markdown",
   "metadata": {},
   "source": [
    "price_CP = price_CP.merge(mean_price, how = 'left', left_on = 'Producto_ID', right_index = True)"
   ]
  },
  {
   "cell_type": "markdown",
   "metadata": {},
   "source": [
    "price_CP['relative_price'] = price_CP['price'] / price_CP['mean_price']"
   ]
  },
  {
   "cell_type": "markdown",
   "metadata": {},
   "source": [
    "price_CP['relative_price'].max()"
   ]
  },
  {
   "cell_type": "markdown",
   "metadata": {},
   "source": [
    "price_CP['relative_price'].min()"
   ]
  },
  {
   "cell_type": "markdown",
   "metadata": {},
   "source": [
    "plt.hist(price_CP.loc[price_CP['relative_price'].notnull(),'relative_price'], bins = 30)"
   ]
  },
  {
   "cell_type": "markdown",
   "metadata": {},
   "source": [
    "plt.show()"
   ]
  },
  {
   "cell_type": "markdown",
   "metadata": {},
   "source": [
    "t1['Cliente_ID'].nunique()"
   ]
  },
  {
   "cell_type": "markdown",
   "metadata": {},
   "source": [
    "t1.drop('store_size', inplace = True)\n",
    "t2.drop('store_size', inplace = True)"
   ]
  },
  {
   "cell_type": "code",
   "execution_count": 49,
   "metadata": {
    "collapsed": false,
    "scrolled": true
   },
   "outputs": [
    {
     "data": {
      "text/plain": [
       "Index([u'Semana', u'Agencia_ID', u'Canal_ID', u'Ruta_SAK', u'Cliente_ID',\n",
       "       u'Producto_ID', u'Venta_uni_hoy', u'Venta_hoy', u'Demanda_uni_equil',\n",
       "       u'log_demand', u'log_demand_ARP', u'log_demand_A', u'log_demand_C',\n",
       "       u'log_demand_PCA', u'log_demand_ACaRP', u'log_demand_Ca',\n",
       "       u'log_demand_PR', u'log_demand_P', u'log_demand_ARC',\n",
       "       u'log_demand_PCACaR', u'log_demand_ACaRC', u'log_demand_ACaP',\n",
       "       u'log_demand_R', u'log_demand_CP', u'log_demand_ACaR', u'store_size',\n",
       "       u'log_demand_CP_from_store_size'],\n",
       "      dtype='object')"
      ]
     },
     "execution_count": 49,
     "metadata": {},
     "output_type": "execute_result"
    }
   ],
   "source": [
    "t1_merge.columns"
   ]
  },
  {
   "cell_type": "code",
   "execution_count": 50,
   "metadata": {
    "collapsed": false
   },
   "outputs": [
    {
     "data": {
      "text/plain": [
       "Index([u'id', u'Semana', u'Agencia_ID', u'Canal_ID', u'Ruta_SAK',\n",
       "       u'Cliente_ID', u'Producto_ID', u'log_demand', u'log_demand_ARP',\n",
       "       u'log_demand_A', u'log_demand_C', u'log_demand_PCA',\n",
       "       u'log_demand_ACaRP', u'log_demand_Ca', u'log_demand_PR',\n",
       "       u'log_demand_P', u'log_demand_ARC', u'log_demand_PCACaR',\n",
       "       u'log_demand_ACaRC', u'log_demand_ACaP', u'log_demand_R',\n",
       "       u'log_demand_CP', u'log_demand_ACaR', u'store_size',\n",
       "       u'log_demand_CP_from_store_size'],\n",
       "      dtype='object')"
      ]
     },
     "execution_count": 50,
     "metadata": {},
     "output_type": "execute_result"
    }
   ],
   "source": [
    "t2_merge.columns"
   ]
  },
  {
   "cell_type": "code",
   "execution_count": 51,
   "metadata": {
    "collapsed": false
   },
   "outputs": [
    {
     "data": {
      "text/plain": [
       "74180464"
      ]
     },
     "execution_count": 51,
     "metadata": {},
     "output_type": "execute_result"
    }
   ],
   "source": [
    "len(t1_merge)"
   ]
  },
  {
   "cell_type": "code",
   "execution_count": 52,
   "metadata": {
    "collapsed": false
   },
   "outputs": [
    {
     "data": {
      "text/plain": [
       "6999251"
      ]
     },
     "execution_count": 52,
     "metadata": {},
     "output_type": "execute_result"
    }
   ],
   "source": [
    "len(t2_merge)"
   ]
  },
  {
   "cell_type": "code",
   "execution_count": 53,
   "metadata": {
    "collapsed": false
   },
   "outputs": [],
   "source": [
    "if bCV:\n",
    "    print len(t3_merge)"
   ]
  },
  {
   "cell_type": "code",
   "execution_count": 54,
   "metadata": {
    "collapsed": false
   },
   "outputs": [
    {
     "data": {
      "text/plain": [
       "74180464"
      ]
     },
     "execution_count": 54,
     "metadata": {},
     "output_type": "execute_result"
    }
   ],
   "source": [
    "len(t1_merge)"
   ]
  },
  {
   "cell_type": "code",
   "execution_count": 55,
   "metadata": {
    "collapsed": false
   },
   "outputs": [
    {
     "data": {
      "text/plain": [
       "6999251"
      ]
     },
     "execution_count": 55,
     "metadata": {},
     "output_type": "execute_result"
    }
   ],
   "source": [
    "len(t2_merge)"
   ]
  },
  {
   "cell_type": "code",
   "execution_count": 56,
   "metadata": {
    "collapsed": false
   },
   "outputs": [
    {
     "name": "stdout",
     "output_type": "stream",
     "text": [
      "1\n",
      "2\n",
      "3\n",
      "4\n",
      "Wall time: 16min 49s\n"
     ]
    }
   ],
   "source": [
    "%%time\n",
    "lag_to = 4\n",
    "for i in range(1,lag_to + 1):\n",
    "    print i\n",
    "    t1_lag1_for_merge = t1_merge[match_cols_dict['CP'] + ['Semana','log_demand']].copy()\n",
    "    t1_lag1_for_merge['Semana'] += i\n",
    "    t1_lag1_for_merge = t1_lag1_for_merge.groupby(match_cols_dict['CP'] + ['Semana'], as_index = False).mean()\n",
    "    t1_merge = t1_merge.merge(t1_lag1_for_merge, how='left', on = match_cols_dict['CP'] + ['Semana'],suffixes=('','_lag' + (\"%i\" % i)))\n",
    "    t2_merge = t2_merge.merge(t1_lag1_for_merge, how='left', on = match_cols_dict['CP'] + ['Semana'],suffixes=('','_lag' + (\"%i\" % i)))\n",
    "    del t1_lag1_for_merge\n",
    "    gc.collect()"
   ]
  },
  {
   "cell_type": "code",
   "execution_count": 57,
   "metadata": {
    "collapsed": false
   },
   "outputs": [
    {
     "data": {
      "text/plain": [
       "Index([u'Semana', u'Agencia_ID', u'Canal_ID', u'Ruta_SAK', u'Cliente_ID',\n",
       "       u'Producto_ID', u'Venta_uni_hoy', u'Venta_hoy', u'Demanda_uni_equil',\n",
       "       u'log_demand', u'log_demand_ARP', u'log_demand_A', u'log_demand_C',\n",
       "       u'log_demand_PCA', u'log_demand_ACaRP', u'log_demand_Ca',\n",
       "       u'log_demand_PR', u'log_demand_P', u'log_demand_ARC',\n",
       "       u'log_demand_PCACaR', u'log_demand_ACaRC', u'log_demand_ACaP',\n",
       "       u'log_demand_R', u'log_demand_CP', u'log_demand_ACaR', u'store_size',\n",
       "       u'log_demand_CP_from_store_size', u'log_demand_lag1',\n",
       "       u'log_demand_lag2', u'log_demand_lag3', u'log_demand_lag4'],\n",
       "      dtype='object')"
      ]
     },
     "execution_count": 57,
     "metadata": {},
     "output_type": "execute_result"
    }
   ],
   "source": [
    "t1_merge.columns"
   ]
  },
  {
   "cell_type": "code",
   "execution_count": 58,
   "metadata": {
    "collapsed": false
   },
   "outputs": [
    {
     "data": {
      "text/plain": [
       "0"
      ]
     },
     "execution_count": 58,
     "metadata": {},
     "output_type": "execute_result"
    }
   ],
   "source": [
    "gc.collect()"
   ]
  },
  {
   "cell_type": "code",
   "execution_count": 59,
   "metadata": {
    "collapsed": false
   },
   "outputs": [
    {
     "data": {
      "text/plain": [
       "74180464"
      ]
     },
     "execution_count": 59,
     "metadata": {},
     "output_type": "execute_result"
    }
   ],
   "source": [
    "len(t1_merge)"
   ]
  },
  {
   "cell_type": "code",
   "execution_count": 60,
   "metadata": {
    "collapsed": false
   },
   "outputs": [
    {
     "data": {
      "text/plain": [
       "6999251"
      ]
     },
     "execution_count": 60,
     "metadata": {},
     "output_type": "execute_result"
    }
   ],
   "source": [
    "len(t2_merge)"
   ]
  },
  {
   "cell_type": "code",
   "execution_count": 61,
   "metadata": {
    "collapsed": true
   },
   "outputs": [],
   "source": [
    "if bCV:\n",
    "    t3_merge = t3_merge.merge(t1_lag1_for_merge, how='left', on=match_cols_dict['CP'] + ['Semana'],suffixes=('','_lag1_CP'))"
   ]
  },
  {
   "cell_type": "code",
   "execution_count": 62,
   "metadata": {
    "collapsed": false
   },
   "outputs": [],
   "source": [
    "#t2_merge.loc[(t2_merge['Cliente_ID'] == 26) & (t2_merge['Producto_ID'] == 31393),match_cols_CP +['Semana','log_demand_lag1_CP','log_demand']]"
   ]
  },
  {
   "cell_type": "code",
   "execution_count": 63,
   "metadata": {
    "collapsed": false
   },
   "outputs": [],
   "source": [
    "#t1_merge.sort_values(match_cols_CP +['Semana','log_demand_lag1_CP','log_demand'])[match_cols_CP +['Semana','log_demand_lag1_CP','log_demand']]"
   ]
  },
  {
   "cell_type": "code",
   "execution_count": 64,
   "metadata": {
    "collapsed": true
   },
   "outputs": [],
   "source": [
    "match_cols = ['Agencia_ID', 'Canal_ID', 'Ruta_SAK', 'Cliente_ID', 'Producto_ID']"
   ]
  },
  {
   "cell_type": "code",
   "execution_count": 65,
   "metadata": {
    "collapsed": false
   },
   "outputs": [],
   "source": [
    "import math\n",
    "import ml_metrics"
   ]
  },
  {
   "cell_type": "code",
   "execution_count": 66,
   "metadata": {
    "collapsed": true
   },
   "outputs": [],
   "source": [
    "#use hexbin to plot point density of million of point that are not possible to visualize through ordinary scatter plot\n",
    "def DensePlot(x,y,xlim,ylim):\n",
    "    #x,y should be panda dataframes\n",
    "    #plt.figure(figsize=(27, 27))\n",
    "    ax = plt.gca()\n",
    "    sel_rows = (x >= xlim[0]) & (x <= xlim[1]) & (y >= ylim[0]) & (y <= ylim[1])\n",
    "    ax.hexbin(x[sel_rows.values],y[sel_rows.values],cmap=plt.cm.hot,bins = 'log')\n",
    "    ax.set_xlim(xlim)\n",
    "    ax.set_ylim(ylim)\n",
    "    plt.show()"
   ]
  },
  {
   "cell_type": "code",
   "execution_count": 67,
   "metadata": {
    "collapsed": false
   },
   "outputs": [],
   "source": [
    "import statsmodels.formula.api as smf\n",
    "import statsmodels.api as sm\n",
    "from statsmodels.tools.tools import add_constant\n",
    "import patsy\n",
    "from sklearn.preprocessing import scale\n",
    "from sklearn.preprocessing import StandardScaler"
   ]
  },
  {
   "cell_type": "code",
   "execution_count": 85,
   "metadata": {
    "collapsed": false
   },
   "outputs": [],
   "source": [
    "#initialize pred column\n",
    "\n",
    "t2_merge['pred'] = np.nan\n",
    "current_na = [True for i in xrange(len(t2_merge))]\n",
    "if bCV:\n",
    "    t3_merge['pred'] = np.nan\n",
    "    current_na_t3 = [True for i in xrange(len(t3_merge))]\n",
    "else:\n",
    "    t3_merge=None\n",
    "    current_na_t3 = None"
   ]
  },
  {
   "cell_type": "code",
   "execution_count": 77,
   "metadata": {
    "collapsed": false
   },
   "outputs": [],
   "source": [
    "def FillPreds(terms_short, # short hand for terms, e.g. ['C','ACaRC','ACaR','ARP','P','R','CP']\n",
    "              t1_merge, \n",
    "              t2_merge, \n",
    "              t3_merge,\n",
    "              current_na, # record the rows whose prediction value remains to be filled\n",
    "              current_na_t3, # record the rows whose prediction value remains to be filled\n",
    "              additional_terms_in_formula, # can add in quadratic terms and interaction terms. e.g. '+ I(log_demand_CP**2) + log_demand_CP:ACaR'\n",
    "              alpha,  # strength of regularization\n",
    "              L1_wt,  # weight of L1 norm regularization term, if 0.0 then only L2 norm is used, if 1.0 then only L1 norm is used\n",
    "              bParamTuning, # Parameter tuning(experiments) or officially write in prediction?  If False, then the predictions writen to pred column will not be changed. If True, then it gernates the optimization result for evaluation purpose but a later function call can still overwrite the prediction writen in this call. \n",
    "              bFullData, \n",
    "              bPrintFitSum): # can turn off the fit summary table by setting this to false.\n",
    "    terms = ['log_demand_' + str for str in terms_short]\n",
    "    myFormula = 'log_demand~' + '+'.join(terms) + additional_terms_in_formula\n",
    "    \n",
    "    #below two line are extracting the rows that does not have any NA in the given terms.\n",
    "    train_no_NA_rows = t1_merge[terms].notnull().all(axis=1)\n",
    "    no_NA_rows = t2_merge[terms].notnull().all(axis=1)\n",
    "    if t3_merge is not None:\n",
    "        no_NA_rows_t3 = t3_merge[terms].notnull().all(axis=1)\n",
    "    \n",
    "    y, X = patsy.dmatrices(myFormula, t1_merge.loc[train_no_NA_rows,terms + ['log_demand']], return_type='dataframe')\n",
    "    #mod = smf.ols(formula = myFormula , data = t1_merge[train_no_NA_rows])\n",
    "    #ss = StandardScaler(copy = False)\n",
    "    #ss.fit_transform(X.iloc[:,1:])\n",
    "    #ss.fit_transform(X);\n",
    "    #X['Intercept'] = np.float32(1.0)\n",
    "    mod = sm.OLS(y , X)\n",
    "    init = np.linalg.solve(X.values.transpose().dot(X.values) + alpha * len(X) * np.identity(X.shape[1]),X.values.transpose().dot(y.iloc[:,0].values))\n",
    "    del X\n",
    "    gc.collect()\n",
    "    #init = mod.fit()\n",
    "    res = mod.fit_regularized(cnvrg_tol=1e-04, alpha = alpha , L1_wt = L1_wt, start_params = init)\n",
    "\n",
    "\n",
    "    #res = mod.fit()\n",
    "\n",
    "    if bPrintFitSum:\n",
    "        print res.summary()\n",
    "    # fill in rows that are currently na in pred but none na in the given terms in both train and test\n",
    "    to_fill_rows = no_NA_rows & current_na   \n",
    "    test_matrix = patsy.dmatrix('+'.join(terms) + additional_terms_in_formula, t2_merge.loc[to_fill_rows,terms], return_type='dataframe')\n",
    "    #ss.transform(test_matrix.iloc[:,1:])\n",
    "    t2_merge.loc[to_fill_rows,'pred'] = np.expm1(res.predict(test_matrix))\n",
    "    del test_matrix\n",
    "    gc.collect()\n",
    "    if t3_merge is not None:\n",
    "        to_fill_rows_t3 = no_NA_rows_t3 & current_na_t3\n",
    "        test_matrix = patsy.dmatrix('+'.join(terms) + additional_terms_in_formula, t3_merge.loc[to_fill_rows_t3,terms], return_type='dataframe')\n",
    "        t3_merge.loc[to_fill_rows_t3,'pred'] = np.expm1(res.predict(test_matrix))\n",
    "        del test_matrix\n",
    "        gc.collect()\n",
    "    print ' + '.join(terms_short)\n",
    "    \n",
    "    train_score = ml_metrics.rmsle(np.expm1(res.fittedvalues),np.expm1(y.iloc[:,0]))\n",
    "    \n",
    "    if not bFullData:\n",
    "        if t3_merge is not None:\n",
    "            print \"cv new fill %d, test new fill %d, train score is %f, cv_score is %f, test score of the new fill is %f\" % (to_fill_rows.sum(),                                                            \n",
    "                                                            to_fill_rows_t3.sum(),\n",
    "                                                            train_score,\n",
    "                                                            ml_metrics.rmsle(t2_merge.loc[to_fill_rows,'pred'],t2_merge.loc[to_fill_rows,'Demanda_uni_equil']),\n",
    "                                                            ml_metrics.rmsle(t3_merge.loc[to_fill_rows_t3,'pred'],t3_merge.loc[to_fill_rows_t3,'Demanda_uni_equil']))\n",
    "        else:\n",
    "            print \"new fill %d, train score is %f, test score of the new fill is %f\" % (to_fill_rows.sum(),                                                            \n",
    "                                                            train_score,\n",
    "                                                            ml_metrics.rmsle(t2_merge.loc[to_fill_rows,'pred'],t2_merge.loc[to_fill_rows,'Demanda_uni_equil']))\n",
    "    else:\n",
    "        print \"new fill %d, train score is %f\" % (to_fill_rows.sum(),\n",
    "                                                  #ml_metrics.rmsle(res.fittedvalues,t1_merge.loc[t1_merge[terms].notnull().all(axis=1), 'Demanda_uni_equil']))\n",
    "                                                  train_score)\n",
    "    if not bParamTuning:\n",
    "        # to integrate the prediction to the pred column\n",
    "        current_na &= (-to_fill_rows)\n",
    "        if t3_merge is not None:\n",
    "            current_na_t3 &= (-to_fill_rows_t3)\n",
    "    return current_na, current_na_t3"
   ]
  },
  {
   "cell_type": "markdown",
   "metadata": {},
   "source": []
  },
  {
   "cell_type": "markdown",
   "metadata": {
    "collapsed": false
   },
   "source": [
    "%%time\n",
    "current_na, current_na_t3 = FillPreds(['C','ACaRC','ACaR','ARP','P','R','CP'],t1_merge,t2_merge,t3_merge,current_na,current_na_t3,\n",
    "                       '',\n",
    "                       0.1,0.0,True, bFullData, True)"
   ]
  },
  {
   "cell_type": "markdown",
   "metadata": {
    "collapsed": true
   },
   "source": [
    "pred_regularized = t2_merge['pred'].copy()"
   ]
  },
  {
   "cell_type": "markdown",
   "metadata": {
    "collapsed": true
   },
   "source": [
    "%%time\n",
    "current_na, current_na_t3 = FillPreds(['C','ACaRC','ACaR','ARP','P','R','CP'],t1_merge,t2_merge,t3_merge,current_na,current_na_t3,\n",
    "                       '',\n",
    "                       0.0,0.0,True, bFullData, True)"
   ]
  },
  {
   "cell_type": "markdown",
   "metadata": {
    "collapsed": true
   },
   "source": [
    "pred_plain = t2_merge['pred'].copy()"
   ]
  },
  {
   "cell_type": "markdown",
   "metadata": {
    "collapsed": true
   },
   "source": [
    "import itertools"
   ]
  },
  {
   "cell_type": "markdown",
   "metadata": {
    "collapsed": true
   },
   "source": [
    "log_error1 = pd.Series(list(itertools.starmap(ml_metrics.msle,zip(t2_merge['Demanda_uni_equil'],pred_regularized))))\n"
   ]
  },
  {
   "cell_type": "markdown",
   "metadata": {
    "collapsed": true
   },
   "source": [
    "log_error2 = pd.Series(list(itertools.starmap(ml_metrics.msle,zip(t2_merge['Demanda_uni_equil'],pred_plain))))"
   ]
  },
  {
   "cell_type": "markdown",
   "metadata": {
    "collapsed": true
   },
   "source": [
    "better = log_error1 < log_error2"
   ]
  },
  {
   "cell_type": "markdown",
   "metadata": {
    "collapsed": true
   },
   "source": [
    "worse = log_error1 >= (log_error2 +0.16)"
   ]
  },
  {
   "cell_type": "markdown",
   "metadata": {},
   "source": [
    "pred_combine = pd.concat([pred_regularized[better],pred_plain[worse]])"
   ]
  },
  {
   "cell_type": "markdown",
   "metadata": {},
   "source": [
    "pred_combine.index\n"
   ]
  },
  {
   "cell_type": "markdown",
   "metadata": {},
   "source": [
    "\n",
    "\n",
    "\n",
    "ml_metrics.rmsle(t2_merge.loc[pred_combine.index,'Demanda_uni_equil'], pred_combine)"
   ]
  },
  {
   "cell_type": "markdown",
   "metadata": {},
   "source": [
    "t2_merge['plain_better'] = np.float32(worse)"
   ]
  },
  {
   "cell_type": "markdown",
   "metadata": {
    "collapsed": true
   },
   "source": [
    "better.sum()"
   ]
  },
  {
   "cell_type": "markdown",
   "metadata": {
    "collapsed": true
   },
   "source": [
    "worse.sum()"
   ]
  },
  {
   "cell_type": "markdown",
   "metadata": {},
   "source": [
    "temp = pd.DataFrame.join(t2_merge[['plain_better','Cliente_ID','Producto_ID']].groupby(['Cliente_ID','Producto_ID']).sum(),\n",
    "               t2_merge[['plain_better','Cliente_ID','Producto_ID']].groupby(['Cliente_ID','Producto_ID']).size().rename('size'))"
   ]
  },
  {
   "cell_type": "markdown",
   "metadata": {},
   "source": [
    "temp['all_plain_better']=(temp['plain_better']==temp['size'])"
   ]
  },
  {
   "cell_type": "markdown",
   "metadata": {},
   "source": [
    "temp['all_plain_better'].sum()"
   ]
  },
  {
   "cell_type": "markdown",
   "metadata": {},
   "source": [
    "len(temp['all_plain_better'])"
   ]
  },
  {
   "cell_type": "markdown",
   "metadata": {},
   "source": [
    "temp['plain_better'].sum()"
   ]
  },
  {
   "cell_type": "markdown",
   "metadata": {},
   "source": [
    "#temp.columns = ['Cliente_ID','Producto_ID','plain_better']"
   ]
  },
  {
   "cell_type": "markdown",
   "metadata": {},
   "source": [
    "file_name='plain_better_margin_0.16'\n",
    "if bCV:\n",
    "    pickle.dump(temp,open(file_name + '_cv.sav','wb'))\n",
    "else:\n",
    "    pickle.dump(temp,open(file_name + '.sav','wb'))"
   ]
  },
  {
   "cell_type": "markdown",
   "metadata": {},
   "source": [
    "DensePlot(pred_regularized[better],pred_plain[better],[0,200],[0,200])"
   ]
  },
  {
   "cell_type": "markdown",
   "metadata": {},
   "source": [
    "DensePlot(pred_regularized[worse],pred_plain[worse],[0,200],[0,200])"
   ]
  },
  {
   "cell_type": "markdown",
   "metadata": {},
   "source": [
    "DensePlot(t2_merge.loc[better.values,'Demanda_uni_equil'], pred_regularized.loc[better.values],[0,200],[0,200])"
   ]
  },
  {
   "cell_type": "markdown",
   "metadata": {
    "collapsed": true
   },
   "source": [
    "DensePlot(t2_merge.loc[worse.values,'Demanda_uni_equil'], pred_regularized.loc[worse.values],[0,200],[0,200])"
   ]
  },
  {
   "cell_type": "markdown",
   "metadata": {
    "collapsed": true
   },
   "source": [
    "DensePlot(t2_merge.loc[better.values,'Demanda_uni_equil'], pred_plain.loc[better.values],[0,200],[0,200])"
   ]
  },
  {
   "cell_type": "markdown",
   "metadata": {},
   "source": [
    "DensePlot(t2_merge.loc[worse.values,'Demanda_uni_equil'], pred_plain.loc[worse.values],[0,200],[0,200])"
   ]
  },
  {
   "cell_type": "markdown",
   "metadata": {},
   "source": [
    "temp1 = pickle.load(open('plain_better_0.2_margin.sav','rb'))"
   ]
  },
  {
   "cell_type": "markdown",
   "metadata": {},
   "source": [
    "temp2 = pickle.load(open('plain_better.sav','rb'))"
   ]
  },
  {
   "cell_type": "markdown",
   "metadata": {},
   "source": [
    "(temp1 - temp2).sum()"
   ]
  },
  {
   "cell_type": "markdown",
   "metadata": {
    "collapsed": true
   },
   "source": [
    "if bOnlyTwoWeekTrain:\n",
    "    if bFullData:\n",
    "        t1_merge = t1_merge.loc[(t1_merge['Semana'] == 8) | (t1_merge['Semana'] == 9),:]\n",
    "    else:\n",
    "        t1_merge = t1_merge.loc[(t1_merge['Semana'] == 6) | (t1_merge['Semana'] == 7),:]"
   ]
  },
  {
   "cell_type": "code",
   "execution_count": 78,
   "metadata": {
    "collapsed": true
   },
   "outputs": [],
   "source": [
    "import sys"
   ]
  },
  {
   "cell_type": "code",
   "execution_count": 80,
   "metadata": {
    "collapsed": false
   },
   "outputs": [],
   "source": [
    "def XGBGridSearchAllData(t1_merge, t2_merge, current_na,predictor, default_params, new_params, bFullData, bParamTuning):\n",
    "    xgb_reg = xgboost.XGBRegressor(**default_params)\n",
    "    min_test_score = 10000;\n",
    "    dict_list = []\n",
    "    if new_params != {}:\n",
    "        for i in xrange(len(new_params.values()[0])):\n",
    "            dict_list.append({key:value[i] for key,value in new_params.iteritems()})\n",
    "    else:\n",
    "        dict_list.append(default_params)\n",
    "    print dict_list\n",
    "    for one_new_param in dict_list:\n",
    "        xgb_reg.set_params(**one_new_param)\n",
    "        if bFullData:\n",
    "            xgb_reg.fit(t1_merge[predictor],\n",
    "                    t1_merge['log_demand'],\n",
    "                    [(t1_merge[predictor], t1_merge['log_demand'])],\n",
    "                    eval_metric  = 'rmse')\n",
    "            if \"log_demand_lag1\" in predictor:\n",
    "                print \"has lag1!\"\n",
    "                t2_merge.loc[t2_merge['Semana']==8,'pred'] = xgb_reg.predict(t2_merge.loc[t2_merge['Semana']==8,predictor])\n",
    "                lag1_for_merge = t2_merge.loc[t2_merge['Semana']==8,match_cols_dict['PCACaR'] + ['Semana' + 'pred']]\n",
    "                lag1_for_merge['Semana'] += 1\n",
    "                \n",
    "        else:\n",
    "            xgb_reg.fit(t1_merge[predictor],\n",
    "                    t1_merge['log_demand'],\n",
    "                    [(t1_merge[predictor], t1_merge['log_demand']), \n",
    "                     (t2_merge[predictor], t2_merge['log_demand'])],\n",
    "                    eval_metric  = 'rmse')\n",
    "        if not bFullData:\n",
    "            test_score = ml_metrics.rmse(t2_merge['log_demand'],xgb_reg.predict(t2_merge[predictor]))\n",
    "        else:\n",
    "            test_score = 0\n",
    "        train_score = ml_metrics.rmse(t1_merge['log_demand'],xgb_reg.predict(t1_merge[predictor]))\n",
    "        print \"parameter: [%s], value = [%s], test score: %f, train score: %f\" % (\n",
    "            ','.join(one_new_param.keys()),\n",
    "            ','.join([\"%f\" % val for val in one_new_param.values()]),\n",
    "            test_score,\n",
    "            train_score\n",
    "        )\n",
    "        sys.stdout.flush()\n",
    "        if (test_score < min_test_score):\n",
    "            min_test_score = test_score\n",
    "            min_xgb_reg = xgb_reg\n",
    "    if not bParamTuning:\n",
    "        t2_merge['pred'] = np.expm1(min_xgb_reg.predict(t2_merge[predictor]))\n",
    "    \n",
    "    return min_xgb_reg"
   ]
  },
  {
   "cell_type": "code",
   "execution_count": 81,
   "metadata": {
    "collapsed": true
   },
   "outputs": [],
   "source": [
    "default_params = {\n",
    "\n",
    "    'objective':'reg:linear', \n",
    "    'nthread':-1, \n",
    "    'gamma':0,\n",
    "    'min_child_weight':1, \n",
    "    'max_delta_step':0,  \n",
    "    'colsample_bytree':0.6,  \n",
    "    'reg_alpha':0, \n",
    "    'reg_lambda':1, \n",
    "    'scale_pos_weight':1, \n",
    "    'seed':0, \n",
    "    'missing':None,\n",
    "    #'objective':'reg:linear', \n",
    "    'silent':0,\n",
    "    'subsample':0.8,\n",
    "    'max_depth':10,\n",
    "    'learning_rate':0.1,\n",
    "    'n_estimators':30\n",
    "}"
   ]
  },
  {
   "cell_type": "code",
   "execution_count": 82,
   "metadata": {
    "collapsed": false
   },
   "outputs": [
    {
     "name": "stdout",
     "output_type": "stream",
     "text": [
      "[{'n_estimators': 440, 'subsample': 0.7, 'learning_rate': 0.01, 'colsample_bytree': 1.0, 'max_depth': 6}]\n",
      "[0]\tvalidation_0-rmse:1.36711\n",
      "[1]\tvalidation_0-rmse:1.35506\n",
      "[2]\tvalidation_0-rmse:1.34315\n",
      "[3]\tvalidation_0-rmse:1.33137\n",
      "[4]\tvalidation_0-rmse:1.31972\n",
      "[5]\tvalidation_0-rmse:1.3082\n",
      "[6]\tvalidation_0-rmse:1.29681\n",
      "[7]\tvalidation_0-rmse:1.28555\n",
      "[8]\tvalidation_0-rmse:1.27441\n",
      "[9]\tvalidation_0-rmse:1.2634\n",
      "[10]\tvalidation_0-rmse:1.25252\n",
      "[11]\tvalidation_0-rmse:1.24176\n",
      "[12]\tvalidation_0-rmse:1.23112\n",
      "[13]\tvalidation_0-rmse:1.2206\n",
      "[14]\tvalidation_0-rmse:1.2102\n",
      "[15]\tvalidation_0-rmse:1.19992\n",
      "[16]\tvalidation_0-rmse:1.18975\n",
      "[17]\tvalidation_0-rmse:1.1797\n",
      "[18]\tvalidation_0-rmse:1.16976\n",
      "[19]\tvalidation_0-rmse:1.15994\n",
      "[20]\tvalidation_0-rmse:1.15023\n",
      "[21]\tvalidation_0-rmse:1.14063\n",
      "[22]\tvalidation_0-rmse:1.13114\n",
      "[23]\tvalidation_0-rmse:1.12176\n",
      "[24]\tvalidation_0-rmse:1.1125\n",
      "[25]\tvalidation_0-rmse:1.10334\n",
      "[26]\tvalidation_0-rmse:1.09428\n",
      "[27]\tvalidation_0-rmse:1.08534\n",
      "[28]\tvalidation_0-rmse:1.0765\n",
      "[29]\tvalidation_0-rmse:1.06776\n",
      "[30]\tvalidation_0-rmse:1.05913\n",
      "[31]\tvalidation_0-rmse:1.05059\n",
      "[32]\tvalidation_0-rmse:1.04217\n",
      "[33]\tvalidation_0-rmse:1.03384\n",
      "[34]\tvalidation_0-rmse:1.02561\n",
      "[35]\tvalidation_0-rmse:1.01747\n",
      "[36]\tvalidation_0-rmse:1.00943\n",
      "[37]\tvalidation_0-rmse:1.00149\n",
      "[38]\tvalidation_0-rmse:0.993635\n",
      "[39]\tvalidation_0-rmse:0.985882\n",
      "[40]\tvalidation_0-rmse:0.97822\n",
      "[41]\tvalidation_0-rmse:0.970657\n",
      "[42]\tvalidation_0-rmse:0.963183\n",
      "[43]\tvalidation_0-rmse:0.955798\n",
      "[44]\tvalidation_0-rmse:0.948503\n",
      "[45]\tvalidation_0-rmse:0.9413\n",
      "[46]\tvalidation_0-rmse:0.934183\n",
      "[47]\tvalidation_0-rmse:0.927158\n",
      "[48]\tvalidation_0-rmse:0.920215\n",
      "[49]\tvalidation_0-rmse:0.913359\n",
      "[50]\tvalidation_0-rmse:0.906588\n",
      "[51]\tvalidation_0-rmse:0.8999\n",
      "[52]\tvalidation_0-rmse:0.893298\n",
      "[53]\tvalidation_0-rmse:0.88678\n",
      "[54]\tvalidation_0-rmse:0.880344\n",
      "[55]\tvalidation_0-rmse:0.873986\n",
      "[56]\tvalidation_0-rmse:0.867704\n",
      "[57]\tvalidation_0-rmse:0.861504\n",
      "[58]\tvalidation_0-rmse:0.855389\n",
      "[59]\tvalidation_0-rmse:0.849352\n",
      "[60]\tvalidation_0-rmse:0.843388\n",
      "[61]\tvalidation_0-rmse:0.837496\n",
      "[62]\tvalidation_0-rmse:0.831682\n",
      "[63]\tvalidation_0-rmse:0.825939\n",
      "[64]\tvalidation_0-rmse:0.820266\n",
      "[65]\tvalidation_0-rmse:0.814668\n",
      "[66]\tvalidation_0-rmse:0.809148\n",
      "[67]\tvalidation_0-rmse:0.8037\n",
      "[68]\tvalidation_0-rmse:0.798328\n",
      "[69]\tvalidation_0-rmse:0.793022\n",
      "[70]\tvalidation_0-rmse:0.787782\n",
      "[71]\tvalidation_0-rmse:0.782613\n",
      "[72]\tvalidation_0-rmse:0.777513\n",
      "[73]\tvalidation_0-rmse:0.772478\n",
      "[74]\tvalidation_0-rmse:0.767513\n",
      "[75]\tvalidation_0-rmse:0.762613\n",
      "[76]\tvalidation_0-rmse:0.757778\n",
      "[77]\tvalidation_0-rmse:0.753014\n",
      "[78]\tvalidation_0-rmse:0.748309\n",
      "[79]\tvalidation_0-rmse:0.743668\n",
      "[80]\tvalidation_0-rmse:0.739088\n",
      "[81]\tvalidation_0-rmse:0.734572\n",
      "[82]\tvalidation_0-rmse:0.730109\n",
      "[83]\tvalidation_0-rmse:0.725715\n",
      "[84]\tvalidation_0-rmse:0.721382\n",
      "[85]\tvalidation_0-rmse:0.717108\n",
      "[86]\tvalidation_0-rmse:0.712888\n",
      "[87]\tvalidation_0-rmse:0.708729\n",
      "[88]\tvalidation_0-rmse:0.70463\n",
      "[89]\tvalidation_0-rmse:0.700582\n",
      "[90]\tvalidation_0-rmse:0.696597\n",
      "[91]\tvalidation_0-rmse:0.692663\n",
      "[92]\tvalidation_0-rmse:0.688793\n",
      "[93]\tvalidation_0-rmse:0.684965\n",
      "[94]\tvalidation_0-rmse:0.681191\n",
      "[95]\tvalidation_0-rmse:0.677464\n",
      "[96]\tvalidation_0-rmse:0.673806\n",
      "[97]\tvalidation_0-rmse:0.670189\n",
      "[98]\tvalidation_0-rmse:0.666625\n",
      "[99]\tvalidation_0-rmse:0.663124\n",
      "[100]\tvalidation_0-rmse:0.659674\n",
      "[101]\tvalidation_0-rmse:0.656273\n",
      "[102]\tvalidation_0-rmse:0.652911\n",
      "[103]\tvalidation_0-rmse:0.649598\n",
      "[104]\tvalidation_0-rmse:0.646334\n",
      "[105]\tvalidation_0-rmse:0.643124\n",
      "[106]\tvalidation_0-rmse:0.639963\n",
      "[107]\tvalidation_0-rmse:0.636838\n",
      "[108]\tvalidation_0-rmse:0.633757\n",
      "[109]\tvalidation_0-rmse:0.630726\n",
      "[110]\tvalidation_0-rmse:0.627729\n",
      "[111]\tvalidation_0-rmse:0.624781\n",
      "[112]\tvalidation_0-rmse:0.621892\n",
      "[113]\tvalidation_0-rmse:0.61904\n",
      "[114]\tvalidation_0-rmse:0.616222\n",
      "[115]\tvalidation_0-rmse:0.61346\n",
      "[116]\tvalidation_0-rmse:0.610738\n",
      "[117]\tvalidation_0-rmse:0.608049\n",
      "[118]\tvalidation_0-rmse:0.605404\n",
      "[119]\tvalidation_0-rmse:0.602807\n",
      "[120]\tvalidation_0-rmse:0.600248\n",
      "[121]\tvalidation_0-rmse:0.597712\n",
      "[122]\tvalidation_0-rmse:0.595232\n",
      "[123]\tvalidation_0-rmse:0.592774\n",
      "[124]\tvalidation_0-rmse:0.590349\n",
      "[125]\tvalidation_0-rmse:0.587967\n",
      "[126]\tvalidation_0-rmse:0.585636\n",
      "[127]\tvalidation_0-rmse:0.583332\n",
      "[128]\tvalidation_0-rmse:0.581066\n",
      "[129]\tvalidation_0-rmse:0.578834\n",
      "[130]\tvalidation_0-rmse:0.576646\n",
      "[131]\tvalidation_0-rmse:0.574484\n",
      "[132]\tvalidation_0-rmse:0.57236\n",
      "[133]\tvalidation_0-rmse:0.57026\n",
      "[134]\tvalidation_0-rmse:0.5682\n",
      "[135]\tvalidation_0-rmse:0.566153\n",
      "[136]\tvalidation_0-rmse:0.56415\n",
      "[137]\tvalidation_0-rmse:0.56218\n",
      "[138]\tvalidation_0-rmse:0.560242\n",
      "[139]\tvalidation_0-rmse:0.558345\n",
      "[140]\tvalidation_0-rmse:0.556482\n",
      "[141]\tvalidation_0-rmse:0.554638\n",
      "[142]\tvalidation_0-rmse:0.552833\n",
      "[143]\tvalidation_0-rmse:0.551055\n",
      "[144]\tvalidation_0-rmse:0.549295\n",
      "[145]\tvalidation_0-rmse:0.547567\n",
      "[146]\tvalidation_0-rmse:0.545867\n",
      "[147]\tvalidation_0-rmse:0.544205\n",
      "[148]\tvalidation_0-rmse:0.542559\n",
      "[149]\tvalidation_0-rmse:0.540931\n",
      "[150]\tvalidation_0-rmse:0.539332\n",
      "[151]\tvalidation_0-rmse:0.537759\n",
      "[152]\tvalidation_0-rmse:0.536226\n",
      "[153]\tvalidation_0-rmse:0.534706\n",
      "[154]\tvalidation_0-rmse:0.533221\n",
      "[155]\tvalidation_0-rmse:0.531761\n",
      "[156]\tvalidation_0-rmse:0.53032\n",
      "[157]\tvalidation_0-rmse:0.528905\n",
      "[158]\tvalidation_0-rmse:0.527513\n",
      "[159]\tvalidation_0-rmse:0.526151\n",
      "[160]\tvalidation_0-rmse:0.524805\n",
      "[161]\tvalidation_0-rmse:0.523474\n",
      "[162]\tvalidation_0-rmse:0.522168\n",
      "[163]\tvalidation_0-rmse:0.520881\n",
      "[164]\tvalidation_0-rmse:0.519625\n",
      "[165]\tvalidation_0-rmse:0.518381\n",
      "[166]\tvalidation_0-rmse:0.517158\n",
      "[167]\tvalidation_0-rmse:0.51596\n",
      "[168]\tvalidation_0-rmse:0.51478\n",
      "[169]\tvalidation_0-rmse:0.513613\n",
      "[170]\tvalidation_0-rmse:0.512477\n",
      "[171]\tvalidation_0-rmse:0.511351\n",
      "[172]\tvalidation_0-rmse:0.510233\n",
      "[173]\tvalidation_0-rmse:0.509145\n",
      "[174]\tvalidation_0-rmse:0.508071\n",
      "[175]\tvalidation_0-rmse:0.50703\n",
      "[176]\tvalidation_0-rmse:0.505996\n",
      "[177]\tvalidation_0-rmse:0.504987\n",
      "[178]\tvalidation_0-rmse:0.503998\n",
      "[179]\tvalidation_0-rmse:0.503006\n",
      "[180]\tvalidation_0-rmse:0.50205\n",
      "[181]\tvalidation_0-rmse:0.501091\n",
      "[182]\tvalidation_0-rmse:0.500156\n",
      "[183]\tvalidation_0-rmse:0.499232\n",
      "[184]\tvalidation_0-rmse:0.498327\n",
      "[185]\tvalidation_0-rmse:0.497443\n",
      "[186]\tvalidation_0-rmse:0.496571\n",
      "[187]\tvalidation_0-rmse:0.495717\n",
      "[188]\tvalidation_0-rmse:0.494871\n",
      "[189]\tvalidation_0-rmse:0.494038\n",
      "[190]\tvalidation_0-rmse:0.493214\n",
      "[191]\tvalidation_0-rmse:0.492417\n",
      "[192]\tvalidation_0-rmse:0.491639\n",
      "[193]\tvalidation_0-rmse:0.490864\n",
      "[194]\tvalidation_0-rmse:0.490097\n",
      "[195]\tvalidation_0-rmse:0.489348\n",
      "[196]\tvalidation_0-rmse:0.488617\n",
      "[197]\tvalidation_0-rmse:0.487895\n",
      "[198]\tvalidation_0-rmse:0.487186\n",
      "[199]\tvalidation_0-rmse:0.48648\n",
      "[200]\tvalidation_0-rmse:0.485807\n",
      "[201]\tvalidation_0-rmse:0.485139\n",
      "[202]\tvalidation_0-rmse:0.484478\n",
      "[203]\tvalidation_0-rmse:0.483827\n",
      "[204]\tvalidation_0-rmse:0.483191\n",
      "[205]\tvalidation_0-rmse:0.482568\n",
      "[206]\tvalidation_0-rmse:0.481955\n",
      "[207]\tvalidation_0-rmse:0.481346\n",
      "[208]\tvalidation_0-rmse:0.480755\n",
      "[209]\tvalidation_0-rmse:0.48017\n",
      "[210]\tvalidation_0-rmse:0.479593\n",
      "[211]\tvalidation_0-rmse:0.479029\n",
      "[212]\tvalidation_0-rmse:0.478477\n",
      "[213]\tvalidation_0-rmse:0.477939\n",
      "[214]\tvalidation_0-rmse:0.477408\n",
      "[215]\tvalidation_0-rmse:0.476879\n",
      "[216]\tvalidation_0-rmse:0.476365\n",
      "[217]\tvalidation_0-rmse:0.475857\n",
      "[218]\tvalidation_0-rmse:0.475359\n",
      "[219]\tvalidation_0-rmse:0.474871\n",
      "[220]\tvalidation_0-rmse:0.474394\n",
      "[221]\tvalidation_0-rmse:0.473921\n",
      "[222]\tvalidation_0-rmse:0.473452\n",
      "[223]\tvalidation_0-rmse:0.473001\n",
      "[224]\tvalidation_0-rmse:0.472539\n",
      "[225]\tvalidation_0-rmse:0.472102\n",
      "[226]\tvalidation_0-rmse:0.471649\n",
      "[227]\tvalidation_0-rmse:0.471225\n",
      "[228]\tvalidation_0-rmse:0.470797\n",
      "[229]\tvalidation_0-rmse:0.470387\n",
      "[230]\tvalidation_0-rmse:0.469976\n",
      "[231]\tvalidation_0-rmse:0.469563\n",
      "[232]\tvalidation_0-rmse:0.469171\n",
      "[233]\tvalidation_0-rmse:0.468776\n",
      "[234]\tvalidation_0-rmse:0.468391\n",
      "[235]\tvalidation_0-rmse:0.46801\n",
      "[236]\tvalidation_0-rmse:0.467628\n",
      "[237]\tvalidation_0-rmse:0.467261\n",
      "[238]\tvalidation_0-rmse:0.466907\n",
      "[239]\tvalidation_0-rmse:0.466563\n",
      "[240]\tvalidation_0-rmse:0.466221\n",
      "[241]\tvalidation_0-rmse:0.465877\n",
      "[242]\tvalidation_0-rmse:0.465546\n",
      "[243]\tvalidation_0-rmse:0.465214\n",
      "[244]\tvalidation_0-rmse:0.464882\n",
      "[245]\tvalidation_0-rmse:0.464568\n",
      "[246]\tvalidation_0-rmse:0.46426\n",
      "[247]\tvalidation_0-rmse:0.463954\n",
      "[248]\tvalidation_0-rmse:0.463649\n",
      "[249]\tvalidation_0-rmse:0.46336\n",
      "[250]\tvalidation_0-rmse:0.463073\n",
      "[251]\tvalidation_0-rmse:0.462781\n",
      "[252]\tvalidation_0-rmse:0.462504\n",
      "[253]\tvalidation_0-rmse:0.462223\n",
      "[254]\tvalidation_0-rmse:0.461957\n",
      "[255]\tvalidation_0-rmse:0.461696\n",
      "[256]\tvalidation_0-rmse:0.461431\n",
      "[257]\tvalidation_0-rmse:0.461178\n",
      "[258]\tvalidation_0-rmse:0.460929\n",
      "[259]\tvalidation_0-rmse:0.460682\n",
      "[260]\tvalidation_0-rmse:0.460433\n",
      "[261]\tvalidation_0-rmse:0.460197\n",
      "[262]\tvalidation_0-rmse:0.459966\n",
      "[263]\tvalidation_0-rmse:0.459726\n",
      "[264]\tvalidation_0-rmse:0.459494\n",
      "[265]\tvalidation_0-rmse:0.459274\n",
      "[266]\tvalidation_0-rmse:0.459054\n",
      "[267]\tvalidation_0-rmse:0.458835\n",
      "[268]\tvalidation_0-rmse:0.458611\n",
      "[269]\tvalidation_0-rmse:0.458399\n",
      "[270]\tvalidation_0-rmse:0.458197\n",
      "[271]\tvalidation_0-rmse:0.457995\n",
      "[272]\tvalidation_0-rmse:0.457794\n",
      "[273]\tvalidation_0-rmse:0.457579\n",
      "[274]\tvalidation_0-rmse:0.457386\n",
      "[275]\tvalidation_0-rmse:0.457194\n",
      "[276]\tvalidation_0-rmse:0.457005\n",
      "[277]\tvalidation_0-rmse:0.456826\n",
      "[278]\tvalidation_0-rmse:0.456643\n",
      "[279]\tvalidation_0-rmse:0.45646\n",
      "[280]\tvalidation_0-rmse:0.456287\n",
      "[281]\tvalidation_0-rmse:0.456109\n",
      "[282]\tvalidation_0-rmse:0.455939\n",
      "[283]\tvalidation_0-rmse:0.455772\n",
      "[284]\tvalidation_0-rmse:0.455603\n",
      "[285]\tvalidation_0-rmse:0.455443\n",
      "[286]\tvalidation_0-rmse:0.455281\n",
      "[287]\tvalidation_0-rmse:0.455131\n",
      "[288]\tvalidation_0-rmse:0.454974\n",
      "[289]\tvalidation_0-rmse:0.454828\n",
      "[290]\tvalidation_0-rmse:0.454677\n",
      "[291]\tvalidation_0-rmse:0.454526\n",
      "[292]\tvalidation_0-rmse:0.454386\n",
      "[293]\tvalidation_0-rmse:0.454243\n",
      "[294]\tvalidation_0-rmse:0.454102\n",
      "[295]\tvalidation_0-rmse:0.453962\n",
      "[296]\tvalidation_0-rmse:0.453821\n",
      "[297]\tvalidation_0-rmse:0.453693\n",
      "[298]\tvalidation_0-rmse:0.453563\n",
      "[299]\tvalidation_0-rmse:0.453434\n",
      "[300]\tvalidation_0-rmse:0.453306\n",
      "[301]\tvalidation_0-rmse:0.453183\n",
      "[302]\tvalidation_0-rmse:0.453054\n",
      "[303]\tvalidation_0-rmse:0.452923\n",
      "[304]\tvalidation_0-rmse:0.452803\n",
      "[305]\tvalidation_0-rmse:0.452687\n",
      "[306]\tvalidation_0-rmse:0.45257\n",
      "[307]\tvalidation_0-rmse:0.452463\n",
      "[308]\tvalidation_0-rmse:0.452354\n",
      "[309]\tvalidation_0-rmse:0.452242\n",
      "[310]\tvalidation_0-rmse:0.452128\n",
      "[311]\tvalidation_0-rmse:0.452025\n",
      "[312]\tvalidation_0-rmse:0.451919\n",
      "[313]\tvalidation_0-rmse:0.451808\n",
      "[314]\tvalidation_0-rmse:0.451695\n",
      "[315]\tvalidation_0-rmse:0.451585\n",
      "[316]\tvalidation_0-rmse:0.451488\n",
      "[317]\tvalidation_0-rmse:0.451391\n",
      "[318]\tvalidation_0-rmse:0.451295\n",
      "[319]\tvalidation_0-rmse:0.451206\n",
      "[320]\tvalidation_0-rmse:0.451115\n",
      "[321]\tvalidation_0-rmse:0.451029\n",
      "[322]\tvalidation_0-rmse:0.450945\n",
      "[323]\tvalidation_0-rmse:0.450853\n",
      "[324]\tvalidation_0-rmse:0.450761\n",
      "[325]\tvalidation_0-rmse:0.45067\n",
      "[326]\tvalidation_0-rmse:0.450589\n",
      "[327]\tvalidation_0-rmse:0.450508\n",
      "[328]\tvalidation_0-rmse:0.450415\n",
      "[329]\tvalidation_0-rmse:0.450336\n",
      "[330]\tvalidation_0-rmse:0.450251\n",
      "[331]\tvalidation_0-rmse:0.450166\n",
      "[332]\tvalidation_0-rmse:0.450087\n",
      "[333]\tvalidation_0-rmse:0.449997\n",
      "[334]\tvalidation_0-rmse:0.449922\n",
      "[335]\tvalidation_0-rmse:0.449847\n",
      "[336]\tvalidation_0-rmse:0.449761\n",
      "[337]\tvalidation_0-rmse:0.449692\n",
      "[338]\tvalidation_0-rmse:0.44961\n",
      "[339]\tvalidation_0-rmse:0.449544\n",
      "[340]\tvalidation_0-rmse:0.449475\n",
      "[341]\tvalidation_0-rmse:0.449404\n",
      "[342]\tvalidation_0-rmse:0.449335\n",
      "[343]\tvalidation_0-rmse:0.449267\n",
      "[344]\tvalidation_0-rmse:0.449198\n",
      "[345]\tvalidation_0-rmse:0.449134\n",
      "[346]\tvalidation_0-rmse:0.449073\n",
      "[347]\tvalidation_0-rmse:0.449\n",
      "[348]\tvalidation_0-rmse:0.448942\n",
      "[349]\tvalidation_0-rmse:0.448878\n",
      "[350]\tvalidation_0-rmse:0.448818\n",
      "[351]\tvalidation_0-rmse:0.448759\n",
      "[352]\tvalidation_0-rmse:0.448694\n",
      "[353]\tvalidation_0-rmse:0.44864\n",
      "[354]\tvalidation_0-rmse:0.448587\n",
      "[355]\tvalidation_0-rmse:0.44853\n",
      "[356]\tvalidation_0-rmse:0.44847\n",
      "[357]\tvalidation_0-rmse:0.448419\n",
      "[358]\tvalidation_0-rmse:0.448363\n",
      "[359]\tvalidation_0-rmse:0.448279\n",
      "[360]\tvalidation_0-rmse:0.448227\n",
      "[361]\tvalidation_0-rmse:0.448149\n",
      "[362]\tvalidation_0-rmse:0.448098\n",
      "[363]\tvalidation_0-rmse:0.44805\n",
      "[364]\tvalidation_0-rmse:0.448\n",
      "[365]\tvalidation_0-rmse:0.447947\n",
      "[366]\tvalidation_0-rmse:0.447889\n",
      "[367]\tvalidation_0-rmse:0.44783\n",
      "[368]\tvalidation_0-rmse:0.44778\n",
      "[369]\tvalidation_0-rmse:0.44773\n",
      "[370]\tvalidation_0-rmse:0.447686\n",
      "[371]\tvalidation_0-rmse:0.447642\n",
      "[372]\tvalidation_0-rmse:0.447575\n",
      "[373]\tvalidation_0-rmse:0.447534\n",
      "[374]\tvalidation_0-rmse:0.447486\n",
      "[375]\tvalidation_0-rmse:0.44741\n",
      "[376]\tvalidation_0-rmse:0.447366\n",
      "[377]\tvalidation_0-rmse:0.447276\n",
      "[378]\tvalidation_0-rmse:0.447237\n",
      "[379]\tvalidation_0-rmse:0.447182\n",
      "[380]\tvalidation_0-rmse:0.447105\n",
      "[381]\tvalidation_0-rmse:0.447069\n",
      "[382]\tvalidation_0-rmse:0.447028\n",
      "[383]\tvalidation_0-rmse:0.44699\n",
      "[384]\tvalidation_0-rmse:0.446953\n",
      "[385]\tvalidation_0-rmse:0.446893\n",
      "[386]\tvalidation_0-rmse:0.446855\n",
      "[387]\tvalidation_0-rmse:0.446815\n",
      "[388]\tvalidation_0-rmse:0.446779\n",
      "[389]\tvalidation_0-rmse:0.44673\n",
      "[390]\tvalidation_0-rmse:0.446669\n",
      "[391]\tvalidation_0-rmse:0.44663\n",
      "[392]\tvalidation_0-rmse:0.446586\n",
      "[393]\tvalidation_0-rmse:0.446548\n",
      "[394]\tvalidation_0-rmse:0.446515\n",
      "[395]\tvalidation_0-rmse:0.446482\n",
      "[396]\tvalidation_0-rmse:0.446441\n",
      "[397]\tvalidation_0-rmse:0.446409\n",
      "[398]\tvalidation_0-rmse:0.446364\n",
      "[399]\tvalidation_0-rmse:0.446309\n",
      "[400]\tvalidation_0-rmse:0.446275\n",
      "[401]\tvalidation_0-rmse:0.446234\n",
      "[402]\tvalidation_0-rmse:0.446168\n",
      "[403]\tvalidation_0-rmse:0.446126\n",
      "[404]\tvalidation_0-rmse:0.446085\n",
      "[405]\tvalidation_0-rmse:0.446055\n",
      "[406]\tvalidation_0-rmse:0.446024\n",
      "[407]\tvalidation_0-rmse:0.445984\n",
      "[408]\tvalidation_0-rmse:0.445955\n",
      "[409]\tvalidation_0-rmse:0.445905\n",
      "[410]\tvalidation_0-rmse:0.445857\n",
      "[411]\tvalidation_0-rmse:0.445827\n",
      "[412]\tvalidation_0-rmse:0.445759\n",
      "[413]\tvalidation_0-rmse:0.445698\n",
      "[414]\tvalidation_0-rmse:0.445661\n",
      "[415]\tvalidation_0-rmse:0.445599\n",
      "[416]\tvalidation_0-rmse:0.445566\n",
      "[417]\tvalidation_0-rmse:0.445511\n",
      "[418]\tvalidation_0-rmse:0.445488\n",
      "[419]\tvalidation_0-rmse:0.44544\n",
      "[420]\tvalidation_0-rmse:0.445392\n",
      "[421]\tvalidation_0-rmse:0.445364\n",
      "[422]\tvalidation_0-rmse:0.445315\n",
      "[423]\tvalidation_0-rmse:0.44529\n",
      "[424]\tvalidation_0-rmse:0.445265\n",
      "[425]\tvalidation_0-rmse:0.445222\n",
      "[426]\tvalidation_0-rmse:0.445176\n",
      "[427]\tvalidation_0-rmse:0.445125\n",
      "[428]\tvalidation_0-rmse:0.445098\n",
      "[429]\tvalidation_0-rmse:0.445044\n",
      "[430]\tvalidation_0-rmse:0.444998\n",
      "[431]\tvalidation_0-rmse:0.444946\n",
      "[432]\tvalidation_0-rmse:0.444915\n",
      "[433]\tvalidation_0-rmse:0.444892\n",
      "[434]\tvalidation_0-rmse:0.44484\n",
      "[435]\tvalidation_0-rmse:0.444817\n",
      "[436]\tvalidation_0-rmse:0.444772\n",
      "[437]\tvalidation_0-rmse:0.444752\n",
      "[438]\tvalidation_0-rmse:0.444732\n",
      "[439]\tvalidation_0-rmse:0.44469\n",
      "parameter: [n_estimators,subsample,learning_rate,colsample_bytree,max_depth], value = [440.000000,0.700000,0.010000,1.000000,6.000000], test score: 0.000000, train score: 0.444690\n",
      "Wall time: 35min 52s\n"
     ]
    }
   ],
   "source": [
    "%%time\n",
    "predictor = ['log_demand_' + str for str in ['C','ACaRC','ACaR','ARP','P','A','R','CP','CP_from_store_size','lag2','lag3','lag4']]\n",
    "min_xgb_reg = XGBGridSearchAllData(t1_merge.loc[(t1_merge['Semana'] == 9),:], t2_merge,current_na, predictor, default_params, {\n",
    "        'n_estimators':[440],\n",
    "        'learning_rate':[0.01],\n",
    "        'subsample':[0.7],\n",
    "        'colsample_bytree':[1.0],\n",
    "        'max_depth':[6]\n",
    "    }, bFullData, False)"
   ]
  },
  {
   "cell_type": "code",
   "execution_count": 83,
   "metadata": {
    "collapsed": true
   },
   "outputs": [],
   "source": [
    "if bFullData:\n",
    "    #write_frame = [\"{0},{1}\".format(t2[\"id\"][i], t2_merge['pred']) for i in xrange(len(t2))]\n",
    "    #write_frame = [\"id,Demanda_uni_equil\"] + write_frame\n",
    "    #with open(\"predictions.csv\", \"w+\") as f:\n",
    "    #    f.write(\"\\n\".join(write_frame))\n",
    "    towrite = t2_merge[['id', 'pred']]\n",
    "    towrite.columns = ['id','Demanda_uni_equil']\n",
    "    towrite.sort_values(['id'], ascending=[True]).to_csv(\"prediction_xgboost.csv\", index=False)\n",
    "else:\n",
    "    plt.figure(figsize=(27, 27))\n",
    "    xmax = t2_merge['Demanda_uni_equil'].max()\n",
    "    ax = plt.subplot(1, 2, 1)\n",
    "    sel_rows = ((t2_merge['Demanda_uni_equil'] < 5000) & (preds_df < 5000))\n",
    "    ax.hexbin(t2_merge.loc[sel_rows.values,'Demanda_uni_equil'],preds_df.loc[sel_rows.values],cmap=plt.cm.hot,bins = 'log')\n",
    "    ax.set_xlabel('actual')\n",
    "    ax.set_ylabel('pred')\n",
    "    ax.set_xlim([0,xmax])\n",
    "    ax.set_ylim([0,xmax])\n",
    "    ax = plt.subplot(1, 2, 2)\n",
    "    sel_rows = ((t2_merge['Demanda_uni_equil'] < 200) & (preds_df < 200))\n",
    "    ax.hexbin(t2_merge.loc[sel_rows.values,'Demanda_uni_equil'],preds_df.loc[sel_rows.values],cmap=plt.cm.hot,bins = 'log')\n",
    "    ax.set_xlim([0, 200])\n",
    "    ax.set_ylim([0, 200])\n",
    "    ax.set_xlabel('actual')\n",
    "    ax.set_ylabel('pred')\n",
    "    plt.figure(figsize=(27, 27))\n",
    "    ax = plt.subplot(1, 2, 1)\n",
    "    sel_rows = ((t2_merge['Demanda_uni_equil'] < 50) & (preds_df < 50))\n",
    "    ax.hexbin(t2_merge.loc[sel_rows.values,'Demanda_uni_equil'],preds_df.loc[sel_rows.values],cmap=plt.cm.hot,bins = 'log',gridsize=(50,50))\n",
    "    ax.set_xlim([0, 50])\n",
    "    ax.set_ylim([0, 50])\n",
    "    ax.set_xlabel('actual')\n",
    "    ax.set_ylabel('pred')\n"
   ]
  },
  {
   "cell_type": "code",
   "execution_count": 84,
   "metadata": {
    "collapsed": true
   },
   "outputs": [],
   "source": [
    "t2_pred_xgboost = t2_merge['pred']"
   ]
  }
 ],
 "metadata": {
  "anaconda-cloud": {},
  "kernelspec": {
   "display_name": "Python [Root]",
   "language": "python",
   "name": "Python [Root]"
  },
  "language_info": {
   "codemirror_mode": {
    "name": "ipython",
    "version": 2
   },
   "file_extension": ".py",
   "mimetype": "text/x-python",
   "name": "python",
   "nbconvert_exporter": "python",
   "pygments_lexer": "ipython2",
   "version": "2.7.12"
  }
 },
 "nbformat": 4,
 "nbformat_minor": 0
}
